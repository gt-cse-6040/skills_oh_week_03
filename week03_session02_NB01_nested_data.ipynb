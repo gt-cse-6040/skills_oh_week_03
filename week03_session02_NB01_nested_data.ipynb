{
 "cells": [
  {
   "cell_type": "markdown",
   "id": "3deb3c0d",
   "metadata": {},
   "source": [
    "_Main topics covered during today's session:_\n",
    "\n",
    "This NB:\n",
    "\n",
    "1. **Intro to Nested Data**\n",
    "\n",
    "Next NB:\n",
    "1. **Nested Data Example -- NBA data**"
   ]
  },
  {
   "cell_type": "markdown",
   "id": "3e486c9a",
   "metadata": {},
   "source": [
    "# Intro to Nested Data"
   ]
  },
  {
   "cell_type": "markdown",
   "id": "ceb30c51",
   "metadata": {},
   "source": [
    "#### Main data structures in Python - \n",
    "1. Lists\n",
    "2. Tuples\n",
    "3. Dictionaries\n",
    "4. Sets\n",
    "\n",
    "#### You can nest these data structures one inside the other. For example - \n",
    "1. List of lists\n",
    "2. List of tuples\n",
    "3. List of dictionaries\n",
    "4. Dictionary of lists\n",
    "5. Dictionary of dictionaries\n",
    "6. Dictionary of lists of dictionaries.....\n",
    "etc.\n",
    "\n",
    "#### You should know how to handle a complex nested data to get the information you want. \n",
    "\n",
    "#### The methodology is to go step by step and understand how the complex nested data is structured.\n",
    "\n",
    "\n",
    "Let's see some examples to get more idea about these nested data structures - "
   ]
  },
  {
   "cell_type": "code",
   "execution_count": null,
   "id": "ca6afedd",
   "metadata": {},
   "outputs": [],
   "source": [
    "# a fairly simple nested data structure\n",
    "# dictionary of dictionaries\n",
    "details_dict = {\n",
    "  \"firstName\": \"John\",\n",
    "  \"lastName\": \"Smith\",\n",
    "  \"isAlive\": True,\n",
    "  \"age\": 25,\n",
    "    \n",
    "    \"address\": {\n",
    "    \"streetAddress\": \"21 2nd Street\",\n",
    "    \"city\": \"New York\",\n",
    "    \"state\": \"NY\",\n",
    "    \"postalCode\": \"10021-3100\"},\n",
    "    \n",
    "  \"phoneNumbers\": {\n",
    "    \"home\":   {\n",
    "                \"type\": \"home\",\n",
    "                \"number\": \"212 555-1234\"\n",
    "              },\n",
    "    \"office\":{\n",
    "               \"type\": \"office\",\n",
    "               \"number\": \"646 555-4567\"\n",
    "             },\n",
    "    \"modile\":{\n",
    "               \"type\": \"mobile\",\n",
    "               \"number\": \"123 456-7890\"\n",
    "             }\n",
    "  },\n",
    "  \"children\": [\"Alice\", \"Ben\"],\n",
    "  \"spouse\": None\n",
    "  \n",
    "}"
   ]
  },
  {
   "cell_type": "markdown",
   "id": "13966d35",
   "metadata": {},
   "source": [
    "#### The site PythonTutor is fantastic for visualizing these data structures.\n",
    "\n",
    "Let's take our details_dict over there and see what it looks like.\n",
    "\n",
    "https://pythontutor.com/python-debugger.html#mode=edit\n"
   ]
  },
  {
   "cell_type": "markdown",
   "id": "378231c0",
   "metadata": {},
   "source": [
    "#### Now let's look at one that is a bit more complex."
   ]
  },
  {
   "cell_type": "code",
   "execution_count": null,
   "id": "c1a2d249",
   "metadata": {},
   "outputs": [],
   "source": [
    "nested_data = {\n",
    "    \"ApartmentBuilding\":{\n",
    "        \"Address\":{\n",
    "            \"HouseNumber\": 5,\n",
    "            \"Street\": \"DataStreet\",\n",
    "            \"ZipCode\": 5100\n",
    "        },\n",
    "        \"Apartments\":[\n",
    "            {\n",
    "                \"Number\": 1,\n",
    "                \"Price\": 500,\n",
    "                \"Residents\": [\n",
    "                    {\n",
    "                        \"Name\": \"Bob\",\n",
    "                        \"Age\": 45\n",
    "                    },\n",
    "                    {\n",
    "                        \"Name\": \"Alice\",\n",
    "                        \"Age\": 33\n",
    "                    }\n",
    "                ]\n",
    "            },\n",
    "            {\n",
    "                \"Number\": 2,\n",
    "                \"Price\": 750,\n",
    "                \"Residents\": [\n",
    "                    {\n",
    "                        \"Name\": \"Jane\",\n",
    "                        \"Age\": 28\n",
    "                    },\n",
    "                    {\n",
    "                        \"Name\": \"William\",\n",
    "                        \"Age\": 29\n",
    "                    }\n",
    "                ]\n",
    "            },\n",
    "            {\n",
    "                \"Number\": 3,\n",
    "                \"Price\": 1000,\n",
    "                \"Residents\": []\n",
    "            }\n",
    "        ]      \n",
    "    }\n",
    "}"
   ]
  },
  {
   "cell_type": "markdown",
   "id": "16acb3ad",
   "metadata": {},
   "source": [
    "#### What does it look like in Python Tutor?\n",
    "\n",
    "*****************************************************\n",
    "\n",
    "#### Now let's look at how to address this with code. At each step below, we will go back to Python Tutor to cross-reference the data structure's visual representation with the syntax of how we are addressing each element."
   ]
  },
  {
   "cell_type": "code",
   "execution_count": null,
   "id": "54e154c7",
   "metadata": {},
   "outputs": [],
   "source": [
    "type(nested_data)"
   ]
  },
  {
   "cell_type": "code",
   "execution_count": null,
   "id": "4f8acefd",
   "metadata": {},
   "outputs": [],
   "source": [
    "# note that the dictionary contains a single key and single value\n",
    "# the single value is a dictionary with 2 keys\n",
    "for key , value in nested_data.items():\n",
    "    print(\"Key : {} ,\\n Value : {}\\n\".format(key,value))"
   ]
  },
  {
   "cell_type": "code",
   "execution_count": null,
   "id": "d524bd7e",
   "metadata": {},
   "outputs": [],
   "source": [
    "len(nested_data)"
   ]
  },
  {
   "cell_type": "markdown",
   "id": "3b633f5b",
   "metadata": {},
   "source": [
    "Addressing the highest level key in the overall dictionary."
   ]
  },
  {
   "cell_type": "code",
   "execution_count": null,
   "id": "3d9605fd",
   "metadata": {},
   "outputs": [],
   "source": [
    "# how to address the highest level key\n",
    "type(nested_data['ApartmentBuilding'])"
   ]
  },
  {
   "cell_type": "markdown",
   "id": "ce085606",
   "metadata": {},
   "source": [
    "Now we see how to address the dictionary that is the value of the highest level key."
   ]
  },
  {
   "cell_type": "code",
   "execution_count": null,
   "id": "6a659f63",
   "metadata": {},
   "outputs": [],
   "source": [
    "for key , value in nested_data['ApartmentBuilding'].items():\n",
    "    print(\"Key : {} | Value : {}\\n\".format(key,value))"
   ]
  },
  {
   "cell_type": "markdown",
   "id": "c3d5d452",
   "metadata": {},
   "source": [
    "Now we go one level down, to the list that is the value of the 'Apartments' key."
   ]
  },
  {
   "cell_type": "code",
   "execution_count": null,
   "id": "ff47ce5b",
   "metadata": {},
   "outputs": [],
   "source": [
    "type(nested_data['ApartmentBuilding']['Apartments'])"
   ]
  },
  {
   "cell_type": "code",
   "execution_count": null,
   "id": "2663eabd",
   "metadata": {},
   "outputs": [],
   "source": [
    "# using enumerate\n",
    "# this is a list of dictionaries\n",
    "for i , structure in enumerate(nested_data['ApartmentBuilding']['Apartments']):\n",
    "    print(\"Structure {} : {}\".format(i , structure))"
   ]
  },
  {
   "cell_type": "markdown",
   "id": "24c45787",
   "metadata": {},
   "source": [
    "The key 'Residents' is a also list of dictionaries. How do we address these?\n",
    "\n",
    "Let's print out the 'Residents' list items from the first and second dictionaries in the list."
   ]
  },
  {
   "cell_type": "code",
   "execution_count": null,
   "id": "6bec226f",
   "metadata": {},
   "outputs": [],
   "source": [
    "for structure in (nested_data['ApartmentBuilding']['Apartments'][0]['Residents']):\n",
    "    print(structure)"
   ]
  },
  {
   "cell_type": "markdown",
   "id": "f2e31943",
   "metadata": {},
   "source": [
    "Now let's print each dict in the list individually."
   ]
  },
  {
   "cell_type": "code",
   "execution_count": null,
   "id": "4e37fc1e",
   "metadata": {},
   "outputs": [],
   "source": [
    "print(\"First dict in the list:\")\n",
    "print(nested_data['ApartmentBuilding']['Apartments'][0]['Residents'][0])\n",
    "print(\"Second dict in the list:\")\n",
    "print(nested_data['ApartmentBuilding']['Apartments'][0]['Residents'][1])"
   ]
  },
  {
   "cell_type": "markdown",
   "id": "a7ac19af",
   "metadata": {},
   "source": [
    "Note that there are 2 entries in each dictionary. How do we get the values of each of them?\n",
    "\n",
    "Using .items():"
   ]
  },
  {
   "cell_type": "code",
   "execution_count": null,
   "id": "e29b416f",
   "metadata": {},
   "outputs": [],
   "source": [
    "print(\"For the first dict:\")\n",
    "for key, value in nested_data['ApartmentBuilding']['Apartments'][0]['Residents'][0].items():\n",
    "    print(\"Key : {} | Value : {}\".format(key,value))\n",
    "    \n",
    "print(\"\\nFor the second dict:\")\n",
    "for key, value in nested_data['ApartmentBuilding']['Apartments'][0]['Residents'][1].items():\n",
    "    print(\"Key : {} | Value : {}\".format(key,value))"
   ]
  },
  {
   "cell_type": "markdown",
   "id": "50d3a066",
   "metadata": {},
   "source": [
    "#### Here is a data structure and some simple questions that require us to retrieve information from it."
   ]
  },
  {
   "cell_type": "code",
   "execution_count": null,
   "id": "63f08f3e",
   "metadata": {},
   "outputs": [],
   "source": [
    "my_family = [\n",
    "  { \"family_name\": \"Tunnicliffe\",\n",
    "    \"num_people\": 4,\n",
    "    \"local\": True,\n",
    "    \"city\": \"Bethpage, NY\",\n",
    "    \"date_established\": 2014,\n",
    "    \"names\": [\"Diane\", \"Steve\", \"Dylan\", \"Landon\"],\n",
    "    \"number_of_children\": 2,\n",
    "    \"children\": [\n",
    "      {\n",
    "        \"name\": \"Dylan\",\n",
    "        \"age\": 5,\n",
    "        \"favorite_color\": \"black\",\n",
    "        \"nickname\": \"Dillybeans\",\n",
    "        \"loves\": \"Super Mario\",\n",
    "      },\n",
    "      {\n",
    "        \"name\": \"Landon\",\n",
    "        \"age\": 2,\n",
    "        \"favorite_color\": \"blue\",\n",
    "        \"nickname\": \"Landybean\",\n",
    "        \"loves\": \"trucks\",\n",
    "      }\n",
    "    ]\n",
    "  },\n",
    "  { \"family_name\": \"Agulnick\",\n",
    "    \"num_people\": 5,\n",
    "    \"local\": False,\n",
    "    \"city\": \"Newton, MA\",\n",
    "    \"date_established\": 1987,\n",
    "    \"names\": [\"Ellen\", \"Mark\", \"Diane\", \"Joshua\", \"Allison\"],\n",
    "    \"number_of_children\": 3,\n",
    "    \"children\": [\n",
    "      {\n",
    "        \"name\": \"Diane\",\n",
    "        \"age\": 31,\n",
    "        \"favorite_color\": \"pink\",\n",
    "        \"nickname\": \"Dini\",\n",
    "        \"loves\": \"unicorns\",\n",
    "      },\n",
    "      {\n",
    "        \"name\": \"Joshua\",\n",
    "        \"age\": 28,\n",
    "        \"favorite_color\": \"red\",\n",
    "        \"nickname\": \"Joshie\",\n",
    "        \"loves\": \"trains\",\n",
    "      },\n",
    "      {\n",
    "        \"name\": \"Allison\",\n",
    "        \"age\": 26,\n",
    "        \"favorite_color\": \"purple\",\n",
    "        \"nickname\": \"Alli\",\n",
    "        \"loves\": \"candy\",\n",
    "      }\n",
    "    ]\n",
    "  }\n",
    "]"
   ]
  },
  {
   "cell_type": "markdown",
   "id": "9116d22c",
   "metadata": {},
   "source": [
    "### Q1. Find the names of all children and put into a list."
   ]
  },
  {
   "cell_type": "code",
   "execution_count": null,
   "id": "7988e424",
   "metadata": {},
   "outputs": [],
   "source": [
    "children = []\n",
    "for unit in my_family:\n",
    "    for child in unit['children']:\n",
    "        children.append(child['name'])\n",
    "print(children)"
   ]
  },
  {
   "cell_type": "markdown",
   "id": "4aa5c693",
   "metadata": {},
   "source": [
    "### Q2. Find nicknames of all children and put into a list."
   ]
  },
  {
   "cell_type": "code",
   "execution_count": null,
   "id": "76614ca0",
   "metadata": {},
   "outputs": [],
   "source": [
    "children = []\n",
    "for unit in my_family:\n",
    "    for child in unit['children']:\n",
    "         children.append(child['nickname'])\n",
    "print(children)"
   ]
  },
  {
   "cell_type": "markdown",
   "id": "bb3a443f",
   "metadata": {},
   "source": [
    "### Q3. Find names and ages of children in the non-local family unit and put into a list."
   ]
  },
  {
   "cell_type": "code",
   "execution_count": null,
   "id": "1696348b",
   "metadata": {},
   "outputs": [],
   "source": [
    "child_ages = []\n",
    "for unit in my_family:\n",
    "    if unit['local'] == False:\n",
    "        for child in unit['children']:\n",
    "            name_and_age = child['name'], child['age']\n",
    "            child_ages.append(name_and_age)\n",
    "print (child_ages)"
   ]
  },
  {
   "cell_type": "markdown",
   "id": "0edd3e04",
   "metadata": {},
   "source": [
    "### Q4. Which child loves Super Mario?"
   ]
  },
  {
   "cell_type": "code",
   "execution_count": null,
   "id": "7abe2424",
   "metadata": {},
   "outputs": [],
   "source": [
    "loves_Mario = None\n",
    "for unit in my_family:\n",
    "    for child in unit['children']:\n",
    "        if child['loves'] == 'Super Mario':\n",
    "            loves_Mario = child['name']\n",
    "print (f\"{loves_Mario} really loves Super Mario.\")"
   ]
  },
  {
   "cell_type": "markdown",
   "id": "1cf33ef5",
   "metadata": {},
   "source": [
    "### Q5. Who is into trains, and at what age?"
   ]
  },
  {
   "cell_type": "code",
   "execution_count": null,
   "id": "f6996344",
   "metadata": {},
   "outputs": [],
   "source": [
    "loves_trains = None\n",
    "loves_trains_age = None\n",
    "for unit in my_family:\n",
    "    for child in unit['children']:\n",
    "        \n",
    "        if child['loves'] == 'trains':\n",
    "            loves_trains = child['nickname']\n",
    "            loves_trains_age = child['age']\n",
    "print (f\"{loves_trains} is still very much into trains, even at the age of {loves_trains_age}.\")"
   ]
  },
  {
   "cell_type": "markdown",
   "id": "bd24477e",
   "metadata": {},
   "source": [
    "### Q6. Who likes blue color?"
   ]
  },
  {
   "cell_type": "code",
   "execution_count": null,
   "id": "504cabba",
   "metadata": {},
   "outputs": [],
   "source": [
    "likes_blue = None\n",
    "for unit in my_family:\n",
    "    for child in unit['children']:\n",
    "        if child['favorite_color'] == 'blue':\n",
    "            likes_blue = child['name']\n",
    "print (f\"{likes_blue}'s favorite color is blue.\")"
   ]
  },
  {
   "cell_type": "markdown",
   "id": "d7b8d775",
   "metadata": {},
   "source": [
    "### Q7. Oldest and Youngest child"
   ]
  },
  {
   "cell_type": "code",
   "execution_count": null,
   "id": "2d3336d4",
   "metadata": {},
   "outputs": [],
   "source": [
    "oldest_child = None\n",
    "youngest_child = None\n",
    "children = []\n",
    "for unit in my_family:\n",
    "    for child in unit['children']:\n",
    "        children.append(child)\n",
    "sorted_children = (sorted(children, key = lambda child: child['age'], reverse = True))\n",
    "oldest_child = sorted_children[0]['name']\n",
    "youngest_child = sorted_children[-1]['name']\n",
    "print(f\"The oldest child is {oldest_child}. The youngest child is {youngest_child}.\")"
   ]
  },
  {
   "cell_type": "markdown",
   "id": "b2c6d161",
   "metadata": {},
   "source": [
    "Useful link to understand nested data structures more deeply - https://web.stanford.edu/class/archive/cs/cs106ap/cs106ap.1198/lectures/15-NestedCollections/15-Nested_Data_Structures.pdf"
   ]
  },
  {
   "cell_type": "code",
   "execution_count": null,
   "id": "3a79c97b",
   "metadata": {},
   "outputs": [],
   "source": []
  }
 ],
 "metadata": {
  "kernelspec": {
   "display_name": "Python 3 (ipykernel)",
   "language": "python",
   "name": "python3"
  },
  "language_info": {
   "codemirror_mode": {
    "name": "ipython",
    "version": 3
   },
   "file_extension": ".py",
   "mimetype": "text/x-python",
   "name": "python",
   "nbconvert_exporter": "python",
   "pygments_lexer": "ipython3",
   "version": "3.9.13"
  }
 },
 "nbformat": 4,
 "nbformat_minor": 5
}
