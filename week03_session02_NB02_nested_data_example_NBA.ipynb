{
 "cells": [
  {
   "cell_type": "markdown",
   "id": "d909d5b6",
   "metadata": {},
   "source": [
    "_Main topics covered during today's session:_\n",
    "\n",
    "Previous NB:\n",
    "\n",
    "1. **Intro to Nested Data**\n",
    "\n",
    "This NB:\n",
    "1. **Nested Data Example -- NBA data**"
   ]
  },
  {
   "cell_type": "markdown",
   "id": "eed72988",
   "metadata": {},
   "source": [
    "## Nested Data Structures: NBA Player Analysis\n",
    "\n",
    "_Version 1.2_\n",
    "\n",
    "This notebook exercises the concepts of nested data structures in Python.\n",
    "\n",
    "The intent is to demonstrate for the student a methodology for discovering and manipulating these data structures.\n",
    "\n",
    "The focus of this notebook is solely on understanding the nested data structures, so that they can be manipulated in some manner. "
   ]
  },
  {
   "cell_type": "markdown",
   "id": "2c794fd8",
   "metadata": {},
   "source": [
    "### We will be using some data from the National Basketball Association's (NBA) statistics API for this exercise. \n",
    "\n",
    "The data is called the matchup stats for when a defensive player is guarding an offensive player during the games of an NBA season. The statistics show how the offensive player performed, using various offensive metrics, while being guarded by the defensive player. They include such metrics as the number of games against each other, the total number of minutes that the defensive player guarded the offensive player, points scored, assists, field goal percentage, and the like. The statistics are compiled over the multiple games that the two players' teams played each other over that season.\n",
    "\n",
    "Analysts compare these matchup statistics with how the offensive player performed over the full season, to assess the defensive player's effectiveness. For example, let's say that the offensive player averaged 20 points per 48 minute game for the season. And then let's say that the offensive player scored 10 points in 48 minutes, while matched up against a particular defender. That defender would be considered very good, because he held the offensive player to half of their points per game."
   ]
  },
  {
   "cell_type": "markdown",
   "id": "5e5c0077",
   "metadata": {},
   "source": [
    "## Objective\n",
    "\n",
    "The raw data is in a json file, which comes to us as a dictionary with embedded dictonaries and lists.\n",
    "\n",
    "We are simply be working to understand the nested data structure of this json input file. \n",
    "\n",
    "We assume that this would be the first part of a larger data analysis, in which a client would seek information about NBA players from this dataset."
   ]
  },
  {
   "cell_type": "markdown",
   "id": "e551d0d2",
   "metadata": {},
   "source": [
    "## The data file\n",
    "\n",
    "#### nba_json.txt\n",
    "    This is the raw data, scraped from the NBA API. We will put this into a variable, nested, which will be a list of dictionaries.\n",
    "\n",
    "Don't worry about the packages or syntax here to import from the json file, as you will learn about these later in the course."
   ]
  },
  {
   "cell_type": "code",
   "execution_count": null,
   "id": "c813cfad",
   "metadata": {
    "scrolled": true
   },
   "outputs": [],
   "source": [
    "# import the required package for bringing in the json file\n",
    "import ast"
   ]
  },
  {
   "cell_type": "code",
   "execution_count": null,
   "id": "47e944d1",
   "metadata": {
    "scrolled": true
   },
   "outputs": [],
   "source": [
    "# reading the data from the json file\n",
    "with open('nba_json.txt') as f:\n",
    "    data = f.readlines()\n",
    "    \n",
    "nested = [] # this is going to be our nested data structure\n",
    "#put each line(string) into a dictionary\n",
    "for line in data:\n",
    "    result = ast.literal_eval(line)\n",
    "#     print(result)\n",
    "    nested.append(result)"
   ]
  },
  {
   "cell_type": "markdown",
   "id": "0c8ebaec",
   "metadata": {},
   "source": [
    "## We want to understand the elements of the nested data structure, and how to address each of them.\n",
    "\n",
    "What is the overall data type of the variable nested?"
   ]
  },
  {
   "cell_type": "code",
   "execution_count": null,
   "id": "7920cd61",
   "metadata": {
    "scrolled": true
   },
   "outputs": [],
   "source": [
    "print(type(nested))"
   ]
  },
  {
   "cell_type": "markdown",
   "id": "cc28034a",
   "metadata": {},
   "source": [
    "#### The variable nested is a list, so let's understand what that means.\n",
    "\n",
    "We know that a list will have one or more elements, and we use square brackets to address each element in the list. The list indices start at 0 and go up to n-1, where n is the number of elements in the list.\n",
    "\n",
    "The code below loops through this list and prints the data type of each element in the list."
   ]
  },
  {
   "cell_type": "code",
   "execution_count": null,
   "id": "2514a0f8",
   "metadata": {
    "scrolled": true
   },
   "outputs": [],
   "source": [
    "for i in nested:  #loop over the elements of the list\n",
    "    print(type(i))"
   ]
  },
  {
   "cell_type": "markdown",
   "id": "9941772a",
   "metadata": {},
   "source": [
    "#### We see that the list has 7 elements, and that each element of the list is a dictionary. \n",
    "\n",
    "#### So we have a list of dictionaries.\n",
    "\n",
    "#### Let's look at the dictionary that is the first element in the list. Pay attention to the notation that we are using."
   ]
  },
  {
   "cell_type": "code",
   "execution_count": null,
   "id": "531c8e80",
   "metadata": {
    "scrolled": true
   },
   "outputs": [],
   "source": [
    "# display the first dictionary in the list\n",
    "# Using list notation to address this element\n",
    "print(\"nested_first_dict=\",nested[0])"
   ]
  },
  {
   "cell_type": "markdown",
   "id": "3fd411b8",
   "metadata": {},
   "source": [
    "Let's take this out to Python Tutor to visualize.\n",
    "\n",
    "[Python Tutor](https://pythontutor.com/visualize.html#mode=display)\n"
   ]
  },
  {
   "cell_type": "markdown",
   "id": "a65a6f50",
   "metadata": {},
   "source": [
    "#### Note that this first dict in 'nested' is for the player Al-Farouq Aminu, with the player_id 202329.\n",
    "\n",
    "How would we get the second player in 'nested'? "
   ]
  },
  {
   "cell_type": "code",
   "execution_count": null,
   "id": "76ed006d",
   "metadata": {},
   "outputs": [],
   "source": [
    "# display the second dictionary in the list\n",
    "# Using list notation to address this element\n",
    "print(nested[1])"
   ]
  },
  {
   "cell_type": "markdown",
   "id": "e65d64c7",
   "metadata": {},
   "source": [
    "#### We can see that this is a dictionary (the squiggly brackets at the very beginning and end) and that it has other nested data elements within the dictionary.\n",
    "\n",
    "Let's look at the dictionary to see if we can visualize its structure.\n",
    "\n",
    "We will do this in two steps.\n",
    "\n",
    "First, we want to know the keys of the dictionary. This will tell us the \"top level\" data elements.\n",
    "\n",
    "Then, we will output an element of the list (the dictionary), put it into a markdown cell, and see if we can use CRLF's and indentations to visualize the dictionary and its nested elements."
   ]
  },
  {
   "cell_type": "code",
   "execution_count": null,
   "id": "eb261382",
   "metadata": {
    "scrolled": true
   },
   "outputs": [],
   "source": [
    "# First, what are the keys of the dictionary?\n",
    "# Remember that each element of \"nested\" is a dictionary\n",
    "# So nested[i] defines each dictionary in the list of dicts\n",
    "print(nested[0].keys())\n"
   ]
  },
  {
   "cell_type": "markdown",
   "id": "88a46f3a",
   "metadata": {},
   "source": [
    "#### So the dictionary has 3 keys.\n",
    "\n",
    "Now let's output the first of the list elements from nested, a dictionary.\n"
   ]
  },
  {
   "cell_type": "code",
   "execution_count": null,
   "id": "96614075",
   "metadata": {
    "scrolled": true
   },
   "outputs": [],
   "source": [
    "# Again, note the list notation to address the dictionary\n",
    "print(nested[0])"
   ]
  },
  {
   "cell_type": "code",
   "execution_count": null,
   "id": "855d095b",
   "metadata": {
    "scrolled": true
   },
   "outputs": [],
   "source": [
    "# another way of outputting the variable\n",
    "\n",
    "nested[0]"
   ]
  },
  {
   "cell_type": "markdown",
   "id": "77a29d6b",
   "metadata": {},
   "source": [
    "#### Note the differences in how Python formats the two outputs, using print() versus just calling the variable to output. \n",
    "\n",
    "1.  With print(), you just get the output on lines, with the next line just picking up wherever the text is.\n",
    "\n",
    "2.  With the variable called directly, though, we can see that it formats the output to show the structure of the nested elements, starting a new row for each new element at that level. \n",
    "\n",
    "3.  One note on displaying variables in these two manners. The second manner only outputs if it is the last line of the cell. If you want to display a variable in the middle of the cell, with code after it, you must use print()."
   ]
  },
  {
   "cell_type": "markdown",
   "id": "efe90dc2",
   "metadata": {},
   "source": [
    "#### Now let's visualize the dictionary.\n",
    "\n",
    "We know the three top-level keys, so let's set those first, by putting them onto their own lines.Note that we have truncated the 'resultSets' values, for brevity.\n",
    "\n",
    "##### resource \n",
    "    This defines the NBA API endpoint that we called to bring back this data. Simple key-value pair.\n",
    "\n",
    "##### parameters \n",
    "    Defines the parameters/variables that we passed to the API endpoint, to tell it which data to select and send back to us. We can see that this is a key, with a dictionary as the value (squiggly braces).\n",
    "\n",
    "##### resultSets \n",
    "    This is the player matchup data that we will be putting into our Pandas data frame. We can see that this is a key, with a list as the value (square brackets). We can also see that there appear to be dictionaries and lists within this list, and we will examine this later.\n",
    "\n",
    "\n",
    "{'resource': 'leagueseasonmatchups', \n",
    "\n",
    "'parameters': {'LeagueID': '00', 'Season': '2019-20', 'SeasonType': 'Regular Season', 'PORound': 0, 'PerMode': 'Totals', 'DefTeamID': None, 'OffTeamID': None, 'OffPlayerID': None, 'DefPlayerID': 203500}, \n",
    "\n",
    "'resultSets': [{'name': 'SeasonMatchups', 'headers': ['SEASON_ID', 'OFF_PLAYER_ID', 'OFF_PLAYER_NAME', 'DEF_PLAYER_ID', 'DEF_PLAYER_NAME', 'GP', 'MATCHUP_MIN', 'PARTIAL_POSS', 'PLAYER_PTS', 'TEAM_PTS', 'MATCHUP_AST', 'MATCHUP_TOV', 'MATCHUP_BLK', 'MATCHUP_FGM', 'MATCHUP_FGA', 'MATCHUP_FG_PCT', 'MATCHUP_FG3M', 'MATCHUP_FG3A', 'MATCHUP_FG3_PCT', 'HELP_BLK', 'HELP_FGM', 'HELP_FGA', 'HELP_FG_PERC', 'MATCHUP_FTM', 'MATCHUP_FTA', 'SFL', 'MATCHUP_TIME_SEC'], 'rowSet': [['22019', 1629060, 'Rui Hachimura', 202329, 'Al-Farouq Aminu', 1, '6:45', 31.9, 4, 47, 1, 0, 0, 2, 5, 0.4, 0, 0, 0.0, 0, 0, 0, 0, 0, 0, 0, 404.7],}]}"
   ]
  },
  {
   "cell_type": "markdown",
   "id": "4bcaadae",
   "metadata": {},
   "source": [
    "#### Now let's loop over the keys of this dictionary, to display the value of each.\n",
    "\n",
    "This is just a standard Python loop over a dict.\n"
   ]
  },
  {
   "cell_type": "code",
   "execution_count": null,
   "id": "e2bf11ca",
   "metadata": {},
   "outputs": [],
   "source": [
    "# loop over the dictionary, display the key and value pair\n",
    "for k,v in nested[0].items():\n",
    "    print(\"key:\", k)\n",
    "    print(\"value:\",v,\"\\n\")\n"
   ]
  },
  {
   "cell_type": "code",
   "execution_count": null,
   "id": "e53e5212",
   "metadata": {},
   "outputs": [],
   "source": [
    "# Let's output individual keys\n",
    "# Notice the hierarchy of how we are addressing the dict, which is an element of the list\n",
    "print(nested[0]['resource'])\n",
    "print(\"\\n\")\n",
    "print(nested[0]['parameters'])\n",
    "print(\"\\n\")\n",
    "print(nested[0]['resultSets'])"
   ]
  },
  {
   "cell_type": "markdown",
   "id": "7695e73e",
   "metadata": {},
   "source": [
    "#### We can see that the key 'parameters' has a dictionary as its value. Let's loop over the keys of this dictionary and output the values.\n",
    "\n",
    "This is practice for us to get our syntax correct for our nesting."
   ]
  },
  {
   "cell_type": "code",
   "execution_count": null,
   "id": "b94054b1",
   "metadata": {
    "scrolled": false
   },
   "outputs": [],
   "source": [
    "# Note the next level down of syntax\n",
    "print('key-value pairs in a loop')\n",
    "for k,v in nested[0]['parameters'].items():\n",
    "    print(\"key:\", k)\n",
    "    print(\"value:\",v,\"\\n\")"
   ]
  },
  {
   "cell_type": "code",
   "execution_count": null,
   "id": "6a6fcf9b",
   "metadata": {},
   "outputs": [],
   "source": [
    "# Output a single value from a selected key within the dict\n",
    "# Note that we are THREE levels down to address an individual key\n",
    "print('single value of a key')\n",
    "print(nested[0]['parameters']['Season'])"
   ]
  },
  {
   "cell_type": "markdown",
   "id": "93865d15",
   "metadata": {},
   "source": [
    "#### Now let's look at the resultSets key, with a list as its value.\n",
    "\n",
    "1. Output the list that is the value for this key.\n",
    "\n",
    "2. Loop over the list, to see the individual elements of it."
   ]
  },
  {
   "cell_type": "code",
   "execution_count": null,
   "id": "88d1dcd8",
   "metadata": {},
   "outputs": [],
   "source": [
    "# Item #1\n",
    "# output the value of the resultSets key\n",
    "# again, note the levels to get down to it\n",
    "print(nested[0]['resultSets'])"
   ]
  },
  {
   "cell_type": "code",
   "execution_count": null,
   "id": "144f7544",
   "metadata": {
    "scrolled": true
   },
   "outputs": [],
   "source": [
    "# Second way of displaying item #1\n",
    "nested[0]['resultSets']"
   ]
  },
  {
   "cell_type": "code",
   "execution_count": null,
   "id": "3ff24670",
   "metadata": {
    "scrolled": true
   },
   "outputs": [],
   "source": [
    "# Item #2\n",
    "# Loop over the list that makes up this value\n",
    "for i in nested[0]['resultSets']:\n",
    "    print(i)\n",
    "    print('\\n')\n",
    "    print(\"next i\")"
   ]
  },
  {
   "cell_type": "markdown",
   "id": "fdf7c707",
   "metadata": {},
   "source": [
    "#### This is very interesting, in that we can see that, although this is a list, there is only a single element in the list. \n",
    "\n",
    "#### That element is a dictionary, as evidenced by the squiggly brackets framing the data. \n",
    "\n",
    "While we went through a looping syntax to display this dict, let's address it directly.\n",
    "\n",
    "Since this dict is the first element of the list (that makes up the value in the key-value pair), note the syntax to get down to it. This syntax builds on what we had above."
   ]
  },
  {
   "cell_type": "code",
   "execution_count": null,
   "id": "ea147933",
   "metadata": {
    "scrolled": true
   },
   "outputs": [],
   "source": [
    "# address the list directly, notice the square bracket and index syntax, \n",
    "# which is standard for addressing the elements of a list.\n",
    "# this is the first item in the list\n",
    "nested[0]['resultSets'][0]"
   ]
  },
  {
   "cell_type": "markdown",
   "id": "d1129219",
   "metadata": {},
   "source": [
    "#### So what are the keys that make up this dictionary? Use the same syntax as above to list them.\n"
   ]
  },
  {
   "cell_type": "code",
   "execution_count": null,
   "id": "2ce55c71",
   "metadata": {},
   "outputs": [],
   "source": [
    "# Note the next level down of syntax\n",
    "# remember that we are still only looking at the first element of the list\n",
    "print('key-value pairs in a loop')\n",
    "for k,v in nested[0]['resultSets'][0].items():\n",
    "    print(\"key:\", k)\n",
    "    print(\"value:\",v,\"\\n\")"
   ]
  },
  {
   "cell_type": "markdown",
   "id": "dce8d9ac",
   "metadata": {},
   "source": [
    "#### These key-value pairs are getting down to the data that we would be seeking for our analysis.\n",
    "\n",
    "What is in the value field for the \"headers\" key (the list) would be statistics names that we are analyzing. Were we to put this data into a row and column format (such as Excel or pandas), we can see that these are the column headers.\n",
    "\n",
    "Let's directly address this list."
   ]
  },
  {
   "cell_type": "code",
   "execution_count": null,
   "id": "ee3a1f68",
   "metadata": {
    "scrolled": false
   },
   "outputs": [],
   "source": [
    "nested[0]['resultSets'][0]['headers'][0:5]"
   ]
  },
  {
   "cell_type": "markdown",
   "id": "333b4c22",
   "metadata": {},
   "source": [
    "#### Let's look at the \"rowset\" key, and its values.\n",
    "\n",
    "The square brackets at the very start and end of the value tell us that this is a list. Additionally, we can see that each of the individual elements is also a list, so this is a list of lists.\n",
    "\n",
    "How do we address the top level list? Same as we just did for the \"headers\" key-value pair. Note that the 'S' in 'rowSet' is capitalized, so we don't run into an error that could throw us off."
   ]
  },
  {
   "cell_type": "code",
   "execution_count": null,
   "id": "9b6ea14a",
   "metadata": {},
   "outputs": [],
   "source": [
    "print(nested[0]['resultSets'][0]['rowSet'])\n",
    "nested[0]['resultSets'][0]['rowSet']"
   ]
  },
  {
   "cell_type": "markdown",
   "id": "0f51d21e",
   "metadata": {},
   "source": [
    "#### OK, so this gives us the list of lists, now how do we address each of the list elements?\n",
    "\n",
    "Just address them using the standard index notation. \n",
    "\n",
    "For example, the first item in any list is just list[0]. So the first item in the rowset list is:"
   ]
  },
  {
   "cell_type": "code",
   "execution_count": null,
   "id": "a2f0e62f",
   "metadata": {
    "scrolled": false
   },
   "outputs": [],
   "source": [
    "print(nested[0]['resultSets'][0]['rowSet'][0][0:6])"
   ]
  },
  {
   "cell_type": "markdown",
   "id": "bb61d6af",
   "metadata": {},
   "source": [
    "#### Finally, we might want to look at the individual data points in this list, which is the lowest level in our nested data structure. \n",
    "\n"
   ]
  },
  {
   "cell_type": "code",
   "execution_count": null,
   "id": "3fde21fb",
   "metadata": {},
   "outputs": [],
   "source": [
    "# we can do this in a loop\n",
    "for data_element in nested[0]['resultSets'][0]['rowSet'][0]:\n",
    "    print(data_element)\n",
    "    \n",
    "# or we can address each data element directly\n",
    "print(\"\\ndirect address of data elements\")\n",
    "print(nested[0]['resultSets'][0]['rowSet'][0][0])\n",
    "print(nested[0]['resultSets'][0]['rowSet'][0][1])"
   ]
  },
  {
   "cell_type": "markdown",
   "id": "5005b390",
   "metadata": {},
   "source": [
    "### To review what we have done here, let's look at the syntax of the various levels of the 'nested' data structure."
   ]
  },
  {
   "cell_type": "code",
   "execution_count": null,
   "id": "832fda86",
   "metadata": {},
   "outputs": [],
   "source": [
    "# At the top level, nested is a list of dicts.\n",
    "for i in nested:  #loop over the elements of the list\n",
    "    print(type(i))\n",
    "    \n",
    "# to address each dict directly, we must use list index notation\n",
    "# not using print() here, to cut down on the output\n",
    "nested[0]\n",
    "nested[1]  # etc etc etc\n",
    "\n",
    "# each of these elements themselves are dicts, with 3 keys\n",
    "print(nested[0].keys())\n",
    "print(nested[1].keys())\n",
    "\n",
    "# each key-value pair is its own data structure\n",
    "# loop over the dictionary, display the key and value pair\n",
    "# commenting out the print() statements to cut down on the output\n",
    "for k,v in nested[0].items():\n",
    "#     print(\"key:\", k)\n",
    "#     print(\"value:\",v,\"\\n\")\n",
    "    continue\n",
    "\n",
    "# Now we can address the 3 keys directly\n",
    "# Notice the hierarchy of how we are addressing the dict, which is an element of the list\n",
    "print(nested[0]['resource'])\n",
    "print(\"\\n\")\n",
    "print(nested[0]['parameters'])\n",
    "print(\"\\n\")\n",
    "print(nested[0]['resultSets'])\n",
    "\n",
    "# We see that the 'resultSets' key has the values we need\n",
    "# so output the value of the resultSets key\n",
    "# again, note the levels to get down to it\n",
    "print(nested[0]['resultSets'])\n",
    "\n",
    "# 'resultSets' has 3 keys, and we are interested in two of them\n",
    "# the 'headers' key contains the column headers that we want for our data analysis\n",
    "nested[0]['resultSets'][0]['headers']\n",
    "\n",
    "# the 'rowsets' key has the player full set of player data\n",
    "nested[0]['resultSets'][0]['rowSet']\n",
    "\n",
    "# and the value of the 'rowset' key is a list of lists, with each\n",
    "# of the component lists containing a row of statistical data\n",
    "# so we use the list index notation to address each element list\n",
    "nested[0]['resultSets'][0]['rowSet'][0]\n",
    "\n",
    "# At the lowest level, each of these individual data elements makes up \n",
    "# the list of statistics for the player matchup.\n",
    "# So we again use the list index notation to address each individual statistic.\n",
    "nested[0]['resultSets'][0]['rowSet'][0][0]\n"
   ]
  },
  {
   "cell_type": "markdown",
   "id": "e5ba8ee3",
   "metadata": {},
   "source": [
    "### Finally, to put together this with something from earlier this week,  we could use the zip function to connect the column headers with their statistical values in either a list or a dictionary.\n",
    "\n",
    "Just putting out there another application of what we are learning."
   ]
  },
  {
   "cell_type": "code",
   "execution_count": null,
   "id": "e1ba3d5e",
   "metadata": {},
   "outputs": [],
   "source": [
    "headers = nested[0]['resultSets'][0]['headers']\n",
    "stats = nested[0]['resultSets'][0]['rowSet'][0]\n",
    "\n",
    "zip_list = list(zip(headers, stats))\n",
    "print('Create a list of tuples:')\n",
    "print(zip_list)\n",
    "\n",
    "print('\\n')\n",
    "\n",
    "from collections import defaultdict\n",
    "zip_dict=defaultdict()\n",
    "zip_dict = {header:stat_value for header, stat_value in zip(headers, stats)}\n",
    "print('Create a dictionary of the headers and stats values:')\n",
    "print(zip_dict)"
   ]
  },
  {
   "cell_type": "markdown",
   "id": "4bc77597",
   "metadata": {},
   "source": [
    "#### How about a single list of dictionaries for all of the statistics for this player, Al-Farouq Aminu?"
   ]
  },
  {
   "cell_type": "code",
   "execution_count": null,
   "id": "6fee44ac",
   "metadata": {},
   "outputs": [],
   "source": [
    "# define the final list\n",
    "player_list = []\n",
    "# define the headers, again\n",
    "headers = nested[0]['resultSets'][0]['headers']\n",
    "\n",
    "\n",
    "for stats_entry in nested[0]['resultSets'][0]['rowSet']:\n",
    "#     the next two lines do the same thing, just illustrating what assigning the variable does\n",
    "    player_dict = {header:stat_value for header, stat_value in zip(headers, stats_entry)}\n",
    "#     player_dict = {header:stat_value for header, stat_value in zip(nested[0]['resultSets'][0]['headers'], stats_entry)}\n",
    "    player_list.append(player_dict)"
   ]
  },
  {
   "cell_type": "code",
   "execution_count": null,
   "id": "83c60f05",
   "metadata": {},
   "outputs": [],
   "source": [
    "print(\"Here are the individual dictionaries within the list:\\n\")\n",
    "for dict in player_list:\n",
    "    print(dict)\n",
    "    print('\\n')\n",
    "print('Here is the full list of dictionaries:\\n')         \n",
    "print(\"player_list=\",player_list)"
   ]
  },
  {
   "cell_type": "markdown",
   "id": "3fcdee3b",
   "metadata": {},
   "source": [
    "Finally, let's go again to Python Tutor to visualize the list of dictionaries. Use the second printed output above to copy and paste into Python Tutor. \n",
    "\n",
    "Notice how we created the artificial variable \"player_list\" in our printout, to allow Python Tutor to think that we are assigning this data structure to a variable.\n",
    "\n",
    "[Python Tutor](https://pythontutor.com/visualize.html#mode=display)"
   ]
  },
  {
   "cell_type": "code",
   "execution_count": null,
   "id": "f0874fa5",
   "metadata": {},
   "outputs": [],
   "source": []
  }
 ],
 "metadata": {
  "kernelspec": {
   "display_name": "Python 3 (ipykernel)",
   "language": "python",
   "name": "python3"
  },
  "language_info": {
   "codemirror_mode": {
    "name": "ipython",
    "version": 3
   },
   "file_extension": ".py",
   "mimetype": "text/x-python",
   "name": "python",
   "nbconvert_exporter": "python",
   "pygments_lexer": "ipython3",
   "version": "3.9.13"
  }
 },
 "nbformat": 4,
 "nbformat_minor": 5
}
