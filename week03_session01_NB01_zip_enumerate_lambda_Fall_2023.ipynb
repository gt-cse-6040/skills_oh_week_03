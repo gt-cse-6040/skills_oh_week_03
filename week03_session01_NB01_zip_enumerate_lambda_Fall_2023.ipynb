{
  "cells": [
    {
      "cell_type": "markdown",
      "metadata": {
        "id": "view-in-github",
        "colab_type": "text"
      },
      "source": [
        "<a href=\"https://colab.research.google.com/github/gt-cse-6040/skills_oh_week_03/blob/main/week03_session01_NB01_zip_enumerate_lambda_Fall_2023.ipynb\" target=\"_parent\"><img src=\"https://colab.research.google.com/assets/colab-badge.svg\" alt=\"Open In Colab\"/></a>"
      ]
    },
    {
      "cell_type": "markdown",
      "id": "7fc081fb",
      "metadata": {
        "id": "7fc081fb"
      },
      "source": [
        "_Main topics covered during today's session:_\n",
        "\n",
        "1. **Floating point numbers/Intro to regex -- Prof. Vuduc class video**\n",
        "2. **zip, enumerate, and lambda functions -- This NB**\n",
        "\n"
      ]
    },
    {
      "cell_type": "markdown",
      "id": "f251f906",
      "metadata": {
        "id": "f251f906"
      },
      "source": [
        "# zip, enumerate, and lambda functions"
      ]
    },
    {
      "cell_type": "markdown",
      "id": "f5fec96f",
      "metadata": {
        "id": "f5fec96f"
      },
      "source": [
        "## zip “pairs up\" (or combines) the elements of a number of lists, tuples, or other sequences to create a zip object of tuples."
      ]
    },
    {
      "cell_type": "markdown",
      "id": "ee0bb382",
      "metadata": {
        "id": "ee0bb382"
      },
      "source": [
        "Let's take a look at our diagram from last week.\n",
        "\n",
        "We start with two \"iterable objects\" (on the left). According to the Python documentation, an iterable is any object that can return its members one at a time. This can be a list, dictionary, set, array, series, etc.\n"
      ]
    },
    {
      "cell_type": "markdown",
      "id": "2de6eff9",
      "metadata": {
        "id": "2de6eff9"
      },
      "source": [
        "![picture](https://raw.githubusercontent.com/gt-cse-6040/skills_oh_week_03/main/iterables_diagram.png)"
      ]
    },
    {
      "cell_type": "markdown",
      "metadata": {
        "id": "iTEJkkAdnUBT"
      },
      "source": [
        "![picture](https://raw.githubusercontent.com/gt-cse-6040/skills_oh_week_03/main/iterables_diagram.png)"
      ],
      "id": "iTEJkkAdnUBT"
    },
    {
      "cell_type": "code",
      "execution_count": null,
      "id": "6d1ad4d1",
      "metadata": {
        "id": "6d1ad4d1"
      },
      "outputs": [],
      "source": [
        "seq1 = ['Albert', 'Chris', 'Jen']\n",
        "seq2 = ['one', 'two', 'three']\n",
        "zipped = zip(seq1, seq2)\n",
        "print(zipped)\n",
        "\n",
        "# cast the zip object to a list\n",
        "zip_list = list(zipped)\n",
        "print(zip_list)\n",
        "\n",
        "# create the zip list directly\n",
        "zip_list2 = list(zip(seq1, seq2))\n",
        "print(zip_list2)"
      ]
    },
    {
      "cell_type": "markdown",
      "id": "2c93bdbe",
      "metadata": {
        "id": "2c93bdbe"
      },
      "source": [
        "Note that we created a new list from the zip object, and that is the normal paradigm that we will use the zip function. We won't work with the zip object directly, but instead we will cast it to some other iterable object that we want to use (list, dict, etc).\n",
        "\n",
        "To create a dictionary using zip, we have to iterate over the zip object and tell Python which item in each tuple is to be the key and which is to be the value."
      ]
    },
    {
      "cell_type": "code",
      "execution_count": null,
      "id": "64ce3be9",
      "metadata": {
        "id": "64ce3be9"
      },
      "outputs": [],
      "source": [
        "from collections import defaultdict\n",
        "\n",
        "zip_dict=defaultdict()\n",
        "zip_dict = {name: number for name, number in zip(seq1, seq2)}\n",
        "print(zip_dict)\n",
        "\n",
        "zip_dict_reversed = defaultdict()\n",
        "zip_dict_reversed = {number: name for name, number in zip(seq1, seq2)}\n",
        "print(zip_dict_reversed)"
      ]
    },
    {
      "cell_type": "markdown",
      "id": "c3e660f3",
      "metadata": {
        "id": "c3e660f3"
      },
      "source": [
        "zip can take an arbitrary number of sequences, and the number of elements it produces is determined by the shortest sequence.\n",
        "\n",
        "See below that seq1 and seq2 have 3 elements, but seq3 has only 2 elements, so the resulting list also has only 2 elements."
      ]
    },
    {
      "cell_type": "code",
      "execution_count": null,
      "id": "5e427ef3",
      "metadata": {
        "id": "5e427ef3"
      },
      "outputs": [],
      "source": [
        "# unequal length lists, note also that we are also zipping up 3 iterables\n",
        "seq3 = [False, True]\n",
        "zip_list = list(zip(seq1, seq2, seq3))\n",
        "zip_list"
      ]
    },
    {
      "cell_type": "markdown",
      "id": "9bd6e273",
      "metadata": {
        "id": "9bd6e273"
      },
      "source": [
        "## enumerate"
      ]
    },
    {
      "cell_type": "markdown",
      "id": "89fdc4d6",
      "metadata": {
        "id": "89fdc4d6"
      },
      "source": [
        "#### In Python, a for loop is usually written as a loop over an iterable object. This means you don’t need a counting variable to access items in the iterable. \n",
        "\n",
        "#### Sometimes, though, you do want to have a variable that changes on each loop iteration. Rather than creating and incrementing a variable yourself, you can use Python’s enumerate() to get a counter and the value from the iterable at the same time."
      ]
    },
    {
      "cell_type": "code",
      "execution_count": null,
      "id": "42a16faa",
      "metadata": {
        "id": "42a16faa"
      },
      "outputs": [],
      "source": [
        "index = 0\n",
        "for value in seq1:\n",
        "    # do something with value\n",
        "    print(index, value)\n",
        "    index += 1"
      ]
    },
    {
      "cell_type": "markdown",
      "id": "04e53a76",
      "metadata": {
        "id": "04e53a76"
      },
      "source": [
        "enumerate returns a sequence of (i, value) tuples:"
      ]
    },
    {
      "cell_type": "code",
      "execution_count": null,
      "id": "00fce522",
      "metadata": {
        "id": "00fce522"
      },
      "outputs": [],
      "source": [
        "for index, value in enumerate(seq1):\n",
        "    # index is the counter that enumerate returns\n",
        "    # value is from seq1, which is passed in\n",
        "    print(index, value)"
      ]
    },
    {
      "cell_type": "code",
      "execution_count": null,
      "id": "be135307",
      "metadata": {
        "id": "be135307"
      },
      "outputs": [],
      "source": [
        "# for example create a list of the tuples\n",
        "enum_list = []\n",
        "for index, value in enumerate(seq1):\n",
        "    # create a tuple and append the tuple to the list\n",
        "    enum_list.append((index,value))\n",
        "    \n",
        "enum_list"
      ]
    },
    {
      "cell_type": "code",
      "execution_count": null,
      "id": "e2e6d6fb",
      "metadata": {
        "id": "e2e6d6fb"
      },
      "outputs": [],
      "source": [
        "# for example create a dictionary of the tuples\n",
        "enum_default_dict = defaultdict()\n",
        "for index, value in enumerate(seq1):\n",
        "    enum_default_dict[index] = value \n",
        "print(enum_default_dict)\n",
        "\n",
        "enum_dict = dict(enum_default_dict)\n",
        "print(enum_dict)"
      ]
    },
    {
      "cell_type": "markdown",
      "id": "f21ab0d3",
      "metadata": {
        "id": "f21ab0d3"
      },
      "source": [
        "#### Good enumerate reference:\n",
        "\n",
        "https://realpython.com/python-enumerate/"
      ]
    },
    {
      "cell_type": "markdown",
      "id": "fd097efe",
      "metadata": {
        "id": "fd097efe"
      },
      "source": [
        "So by now, you should be thinking about how can we use zip and enumerate together? \n",
        "\n",
        "A common use of zip is simultaneously iterating over multiple sequences, possibly also combined with enumerate:"
      ]
    },
    {
      "cell_type": "code",
      "execution_count": null,
      "id": "67a51cf2",
      "metadata": {
        "id": "67a51cf2"
      },
      "outputs": [],
      "source": [
        "# a simple example\n",
        "seq1 = ['Albert', 'Chris', 'Jen']\n",
        "seq2 = ['one', 'two', 'three']\n",
        "\n",
        "zip_enumerate_list = []\n",
        "zip_enumerate_dict = defaultdict()\n",
        "\n",
        "for i, (a, b) in enumerate(zip(seq1, seq2)):\n",
        "    print('{0}: {1}, {2}'.format(i, a, b))\n",
        "    zip_enumerate_list.append((i,a,b))\n",
        "    zip_enumerate_dict[i]=(a,b)\n",
        "\n",
        "print('\\n')\n",
        "print(zip_enumerate_list,'\\n')\n",
        "print(zip_enumerate_dict,'\\n')\n",
        "print(dict(zip_enumerate_dict))"
      ]
    },
    {
      "cell_type": "markdown",
      "id": "20f51638",
      "metadata": {
        "id": "20f51638"
      },
      "source": [
        "## lambda functions (aka anonymous functions)"
      ]
    },
    {
      "cell_type": "markdown",
      "id": "673565f0",
      "metadata": {
        "id": "673565f0"
      },
      "source": [
        "Python has support for so-called anonymous or lambda functions, which are a way of writing functions consisting of a single statement, the result of which is the return value. They are defined with the lambda keyword, which has no meaning other than “we are declaring an anonymous function”:"
      ]
    },
    {
      "cell_type": "code",
      "execution_count": null,
      "id": "a354e174",
      "metadata": {
        "id": "a354e174"
      },
      "outputs": [],
      "source": [
        "def multiply_function(x):\n",
        "   return x * 2\n",
        "\n",
        "print(multiply_function(2))\n",
        "\n",
        "equivalent_lambda = lambda x: x * 2\n",
        "print(equivalent_lambda(2))"
      ]
    },
    {
      "cell_type": "markdown",
      "id": "26f1feb2",
      "metadata": {
        "id": "26f1feb2"
      },
      "source": [
        "#### The lambda syntax is interpreted as follows:\n",
        "\n",
        "Take the variable passed in before the semi-colon, and apply the function after the semi-colon to it."
      ]
    },
    {
      "cell_type": "markdown",
      "id": "d0490143",
      "metadata": {
        "id": "d0490143"
      },
      "source": [
        "***********************************************************************************"
      ]
    },
    {
      "cell_type": "markdown",
      "id": "36bab950",
      "metadata": {
        "id": "36bab950"
      },
      "source": [
        "Lambda funcations are especially convenient in data analysis because there are many cases where data transformation functions will take functions as arguments. \n",
        "\n",
        "It is often less typing (and clearer) to pass a lambda function as opposed to writing a full-out function declaration or even assigning the lambda function to a local variable. \n",
        "\n",
        "So let's look at an example."
      ]
    },
    {
      "cell_type": "code",
      "execution_count": null,
      "id": "d7eda37d",
      "metadata": {
        "id": "d7eda37d"
      },
      "outputs": [],
      "source": [
        "def apply_to_list(some_list, f):\n",
        "    return [f(x) for x in some_list]\n",
        "\n",
        "ints = [1, 2, 3, 4, 5]\n",
        "\n",
        "# assign lambda function to variable that is passed in\n",
        "apply_to_list(ints, lambda x: x * 2)"
      ]
    },
    {
      "cell_type": "markdown",
      "id": "ff687980",
      "metadata": {
        "id": "ff687980"
      },
      "source": [
        "Now let's use the lambda function with a complex operation. Note the this is not covered in the Skills OH video, but we include it here for reference. This is our recommended method for using lambda functions for this type of problem, if that is what one is wanting to do. In this case, we are simply defining a line, using the formula y=mx+b."
      ]
    },
    {
      "cell_type": "code",
      "execution_count": null,
      "id": "93d25b00",
      "metadata": {
        "id": "93d25b00"
      },
      "outputs": [],
      "source": [
        "### Here we define a function that produces a lambda. This will preserve each \n",
        "### value which `m` has in the loop at the time `lambda_factory` is called.\n",
        "\n",
        "linear_funcs = []\n",
        "\n",
        "def lambda_factory(m):\n",
        "    return lambda b, x: m * x + b\n",
        "\n",
        "# populate the list with the lambda functions\n",
        "for m in range(5):\n",
        "    linear_funcs.append(lambda_factory(m))\n",
        "    print(linear_funcs)\n",
        "\n",
        "\n",
        "# now return the result of y=mx+b\n",
        "b = 2\n",
        "x = 5\n",
        "for func in linear_funcs:\n",
        "    print(func(b, x))\n",
        "    print('loop')"
      ]
    },
    {
      "cell_type": "markdown",
      "id": "18baa868",
      "metadata": {
        "id": "18baa868"
      },
      "source": [
        "We've created a function, lambda_factory, that passes in a value of \"m\" and uses the variable values of x and b to compute the y value. The function returns the value of 'y', using a lambda function.\n",
        "\n",
        "Next, on each iteration inside the range loop, we've create a list of objects calling the lambda_factory function, with 5 values of \"m\". The variable \"linear_funcs\" now stores the list of lambda function objects.\n",
        "\n",
        "Finally, we loop over the list, calling each lambda function and passing the values of x and b, to print out the computed y value.\n",
        "\n",
        "Note that in this class, we are not going to ask you to put together something this complex, but again, we include it here simply for reference."
      ]
    },
    {
      "cell_type": "markdown",
      "id": "d59ee6c6",
      "metadata": {
        "id": "d59ee6c6"
      },
      "source": [
        "### Here are three good references on lamba:\n",
        "\n",
        "https://realpython.com/python-lambda/\n",
        "\n",
        "https://www.w3schools.com/python/python_lambda.asp\n",
        "\n",
        "https://www.geeksforgeeks.org/python-lambda-anonymous-functions-filter-map-reduce/"
      ]
    },
    {
      "cell_type": "markdown",
      "id": "36cdc626",
      "metadata": {
        "id": "36cdc626"
      },
      "source": [
        "### A final comment.\n",
        "\n",
        "#### These are three excellent functions which you should be familiar with. Not only in the sense of how to write the syntax for these functions, but more so in the application of them (when to use them). \n",
        "\n",
        "#### You will see many instances, both in this course and in \"real life\" data analysis, in which the requirement points you to use one of these functions. This will be especially true on the exams here (HINT HINT!!).\n",
        "\n",
        "The Wes McKinney book, \"Python for Data Analysis\", has a very good chapter on many built-in Python functions and data structures, and it is also worth a look to review. \n",
        "\n",
        "https://wesmckinney.com/book/python-builtin.html\n",
        "\n",
        "McKinney has his code posted in Github, organized by chapter:\n",
        "\n",
        "https://github.com/wesm/pydata-book/tree/3rd-edition"
      ]
    },
    {
      "cell_type": "code",
      "execution_count": null,
      "id": "d9c8afce",
      "metadata": {
        "id": "d9c8afce"
      },
      "outputs": [],
      "source": []
    }
  ],
  "metadata": {
    "kernelspec": {
      "display_name": "Python 3 (ipykernel)",
      "language": "python",
      "name": "python3"
    },
    "language_info": {
      "codemirror_mode": {
        "name": "ipython",
        "version": 3
      },
      "file_extension": ".py",
      "mimetype": "text/x-python",
      "name": "python",
      "nbconvert_exporter": "python",
      "pygments_lexer": "ipython3",
      "version": "3.9.13"
    },
    "colab": {
      "provenance": [],
      "include_colab_link": true
    }
  },
  "nbformat": 4,
  "nbformat_minor": 5
}